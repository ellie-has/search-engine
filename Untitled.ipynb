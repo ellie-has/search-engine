{
 "cells": [
  {
   "cell_type": "code",
   "execution_count": 1,
   "id": "9cfc3ea5-49b6-407c-bdb7-856f532f41b4",
   "metadata": {},
   "outputs": [],
   "source": [
    "import requests \n",
    "\n",
    "docs_url = 'https://github.com/alexeygrigorev/llm-rag-workshop/raw/main/notebooks/documents.json'\n",
    "docs_response = requests.get(docs_url)\n",
    "documents_raw = docs_response.json()\n",
    "\n",
    "documents = []\n",
    "\n",
    "for course in documents_raw:\n",
    "    course_name = course['course']\n",
    "\n",
    "    for doc in course['documents']:\n",
    "        doc['course'] = course_name\n",
    "        documents.append(doc)"
   ]
  },
  {
   "cell_type": "code",
   "execution_count": 2,
   "id": "cc650205-894e-4345-b9a0-61ed9df4fe04",
   "metadata": {},
   "outputs": [
    {
     "data": {
      "text/plain": [
       "{'text': \"Yes, even if you don't register, you're still eligible to submit the homeworks.\\nBe aware, however, that there will be deadlines for turning in the final projects. So don't leave everything for the last minute.\",\n",
       " 'section': 'General course-related questions',\n",
       " 'question': 'Course - Can I still join the course after the start date?',\n",
       " 'course': 'data-engineering-zoomcamp'}"
      ]
     },
     "execution_count": 2,
     "metadata": {},
     "output_type": "execute_result"
    }
   ],
   "source": [
    "documents[2]"
   ]
  },
  {
   "cell_type": "code",
   "execution_count": 3,
   "id": "1da8d19e-112a-436a-a30b-a83e487845df",
   "metadata": {},
   "outputs": [
    {
     "data": {
      "text/html": [
       "<div>\n",
       "<style scoped>\n",
       "    .dataframe tbody tr th:only-of-type {\n",
       "        vertical-align: middle;\n",
       "    }\n",
       "\n",
       "    .dataframe tbody tr th {\n",
       "        vertical-align: top;\n",
       "    }\n",
       "\n",
       "    .dataframe thead th {\n",
       "        text-align: right;\n",
       "    }\n",
       "</style>\n",
       "<table border=\"1\" class=\"dataframe\">\n",
       "  <thead>\n",
       "    <tr style=\"text-align: right;\">\n",
       "      <th></th>\n",
       "      <th>course</th>\n",
       "      <th>section</th>\n",
       "      <th>question</th>\n",
       "      <th>text</th>\n",
       "    </tr>\n",
       "  </thead>\n",
       "  <tbody>\n",
       "    <tr>\n",
       "      <th>0</th>\n",
       "      <td>data-engineering-zoomcamp</td>\n",
       "      <td>General course-related questions</td>\n",
       "      <td>Course - When will the course start?</td>\n",
       "      <td>The purpose of this document is to capture fre...</td>\n",
       "    </tr>\n",
       "    <tr>\n",
       "      <th>1</th>\n",
       "      <td>data-engineering-zoomcamp</td>\n",
       "      <td>General course-related questions</td>\n",
       "      <td>Course - What are the prerequisites for this c...</td>\n",
       "      <td>GitHub - DataTalksClub data-engineering-zoomca...</td>\n",
       "    </tr>\n",
       "    <tr>\n",
       "      <th>2</th>\n",
       "      <td>data-engineering-zoomcamp</td>\n",
       "      <td>General course-related questions</td>\n",
       "      <td>Course - Can I still join the course after the...</td>\n",
       "      <td>Yes, even if you don't register, you're still ...</td>\n",
       "    </tr>\n",
       "    <tr>\n",
       "      <th>3</th>\n",
       "      <td>data-engineering-zoomcamp</td>\n",
       "      <td>General course-related questions</td>\n",
       "      <td>Course - I have registered for the Data Engine...</td>\n",
       "      <td>You don't need it. You're accepted. You can al...</td>\n",
       "    </tr>\n",
       "    <tr>\n",
       "      <th>4</th>\n",
       "      <td>data-engineering-zoomcamp</td>\n",
       "      <td>General course-related questions</td>\n",
       "      <td>Course - What can I do before the course starts?</td>\n",
       "      <td>You can start by installing and setting up all...</td>\n",
       "    </tr>\n",
       "  </tbody>\n",
       "</table>\n",
       "</div>"
      ],
      "text/plain": [
       "                      course                           section  \\\n",
       "0  data-engineering-zoomcamp  General course-related questions   \n",
       "1  data-engineering-zoomcamp  General course-related questions   \n",
       "2  data-engineering-zoomcamp  General course-related questions   \n",
       "3  data-engineering-zoomcamp  General course-related questions   \n",
       "4  data-engineering-zoomcamp  General course-related questions   \n",
       "\n",
       "                                            question  \\\n",
       "0               Course - When will the course start?   \n",
       "1  Course - What are the prerequisites for this c...   \n",
       "2  Course - Can I still join the course after the...   \n",
       "3  Course - I have registered for the Data Engine...   \n",
       "4   Course - What can I do before the course starts?   \n",
       "\n",
       "                                                text  \n",
       "0  The purpose of this document is to capture fre...  \n",
       "1  GitHub - DataTalksClub data-engineering-zoomca...  \n",
       "2  Yes, even if you don't register, you're still ...  \n",
       "3  You don't need it. You're accepted. You can al...  \n",
       "4  You can start by installing and setting up all...  "
      ]
     },
     "execution_count": 3,
     "metadata": {},
     "output_type": "execute_result"
    }
   ],
   "source": [
    "import pandas as pd\n",
    "\n",
    "df = pd.DataFrame(documents, columns=['course', 'section', 'question', 'text'])\n",
    "df.head()"
   ]
  },
  {
   "cell_type": "code",
   "execution_count": null,
   "id": "3651de8a-5573-483b-a826-05c10fa41f04",
   "metadata": {},
   "outputs": [],
   "source": [
    "Vector Spaces\n",
    "- turn the docs into vectors\n",
    "- term-docments matrix:\n",
    "    - rows: documents\n",
    "    - columns: words/tokens\n",
    "- bag of words:\n",
    "    - word order is lost\n",
    "    - sparse matrix"
   ]
  },
  {
   "cell_type": "code",
   "execution_count": 4,
   "id": "ae850117-1863-420e-99b7-b719588a67ba",
   "metadata": {},
   "outputs": [],
   "source": [
    "docs_example = [\n",
    "    \"Course starts on 15th Jan 2024\",\n",
    "    \"Prerequisites listed on GitHub\",\n",
    "    \"Submit homeworks after start date\",\n",
    "    \"Registration not required for participation\",\n",
    "    \"Setup Google Cloud and Python before course\"\n",
    "]"
   ]
  },
  {
   "cell_type": "markdown",
   "id": "71d96945-d00a-43ab-980c-01329fabca3d",
   "metadata": {},
   "source": [
    "CountVectorizer"
   ]
  },
  {
   "cell_type": "code",
   "execution_count": 5,
   "id": "68a596df-3284-4b76-b5aa-ce2f923c64ff",
   "metadata": {},
   "outputs": [
    {
     "data": {
      "text/html": [
       "<div>\n",
       "<style scoped>\n",
       "    .dataframe tbody tr th:only-of-type {\n",
       "        vertical-align: middle;\n",
       "    }\n",
       "\n",
       "    .dataframe tbody tr th {\n",
       "        vertical-align: top;\n",
       "    }\n",
       "\n",
       "    .dataframe thead th {\n",
       "        text-align: right;\n",
       "    }\n",
       "</style>\n",
       "<table border=\"1\" class=\"dataframe\">\n",
       "  <thead>\n",
       "    <tr style=\"text-align: right;\">\n",
       "      <th></th>\n",
       "      <th>0</th>\n",
       "      <th>1</th>\n",
       "      <th>2</th>\n",
       "      <th>3</th>\n",
       "      <th>4</th>\n",
       "    </tr>\n",
       "  </thead>\n",
       "  <tbody>\n",
       "    <tr>\n",
       "      <th>15th</th>\n",
       "      <td>1</td>\n",
       "      <td>0</td>\n",
       "      <td>0</td>\n",
       "      <td>0</td>\n",
       "      <td>0</td>\n",
       "    </tr>\n",
       "    <tr>\n",
       "      <th>2024</th>\n",
       "      <td>1</td>\n",
       "      <td>0</td>\n",
       "      <td>0</td>\n",
       "      <td>0</td>\n",
       "      <td>0</td>\n",
       "    </tr>\n",
       "    <tr>\n",
       "      <th>cloud</th>\n",
       "      <td>0</td>\n",
       "      <td>0</td>\n",
       "      <td>0</td>\n",
       "      <td>0</td>\n",
       "      <td>1</td>\n",
       "    </tr>\n",
       "    <tr>\n",
       "      <th>course</th>\n",
       "      <td>1</td>\n",
       "      <td>0</td>\n",
       "      <td>0</td>\n",
       "      <td>0</td>\n",
       "      <td>1</td>\n",
       "    </tr>\n",
       "    <tr>\n",
       "      <th>date</th>\n",
       "      <td>0</td>\n",
       "      <td>0</td>\n",
       "      <td>1</td>\n",
       "      <td>0</td>\n",
       "      <td>0</td>\n",
       "    </tr>\n",
       "    <tr>\n",
       "      <th>github</th>\n",
       "      <td>0</td>\n",
       "      <td>1</td>\n",
       "      <td>0</td>\n",
       "      <td>0</td>\n",
       "      <td>0</td>\n",
       "    </tr>\n",
       "    <tr>\n",
       "      <th>google</th>\n",
       "      <td>0</td>\n",
       "      <td>0</td>\n",
       "      <td>0</td>\n",
       "      <td>0</td>\n",
       "      <td>1</td>\n",
       "    </tr>\n",
       "    <tr>\n",
       "      <th>homeworks</th>\n",
       "      <td>0</td>\n",
       "      <td>0</td>\n",
       "      <td>1</td>\n",
       "      <td>0</td>\n",
       "      <td>0</td>\n",
       "    </tr>\n",
       "    <tr>\n",
       "      <th>jan</th>\n",
       "      <td>1</td>\n",
       "      <td>0</td>\n",
       "      <td>0</td>\n",
       "      <td>0</td>\n",
       "      <td>0</td>\n",
       "    </tr>\n",
       "    <tr>\n",
       "      <th>listed</th>\n",
       "      <td>0</td>\n",
       "      <td>1</td>\n",
       "      <td>0</td>\n",
       "      <td>0</td>\n",
       "      <td>0</td>\n",
       "    </tr>\n",
       "    <tr>\n",
       "      <th>participation</th>\n",
       "      <td>0</td>\n",
       "      <td>0</td>\n",
       "      <td>0</td>\n",
       "      <td>1</td>\n",
       "      <td>0</td>\n",
       "    </tr>\n",
       "    <tr>\n",
       "      <th>prerequisites</th>\n",
       "      <td>0</td>\n",
       "      <td>1</td>\n",
       "      <td>0</td>\n",
       "      <td>0</td>\n",
       "      <td>0</td>\n",
       "    </tr>\n",
       "    <tr>\n",
       "      <th>python</th>\n",
       "      <td>0</td>\n",
       "      <td>0</td>\n",
       "      <td>0</td>\n",
       "      <td>0</td>\n",
       "      <td>1</td>\n",
       "    </tr>\n",
       "    <tr>\n",
       "      <th>registration</th>\n",
       "      <td>0</td>\n",
       "      <td>0</td>\n",
       "      <td>0</td>\n",
       "      <td>1</td>\n",
       "      <td>0</td>\n",
       "    </tr>\n",
       "    <tr>\n",
       "      <th>required</th>\n",
       "      <td>0</td>\n",
       "      <td>0</td>\n",
       "      <td>0</td>\n",
       "      <td>1</td>\n",
       "      <td>0</td>\n",
       "    </tr>\n",
       "    <tr>\n",
       "      <th>setup</th>\n",
       "      <td>0</td>\n",
       "      <td>0</td>\n",
       "      <td>0</td>\n",
       "      <td>0</td>\n",
       "      <td>1</td>\n",
       "    </tr>\n",
       "    <tr>\n",
       "      <th>start</th>\n",
       "      <td>0</td>\n",
       "      <td>0</td>\n",
       "      <td>1</td>\n",
       "      <td>0</td>\n",
       "      <td>0</td>\n",
       "    </tr>\n",
       "    <tr>\n",
       "      <th>starts</th>\n",
       "      <td>1</td>\n",
       "      <td>0</td>\n",
       "      <td>0</td>\n",
       "      <td>0</td>\n",
       "      <td>0</td>\n",
       "    </tr>\n",
       "    <tr>\n",
       "      <th>submit</th>\n",
       "      <td>0</td>\n",
       "      <td>0</td>\n",
       "      <td>1</td>\n",
       "      <td>0</td>\n",
       "      <td>0</td>\n",
       "    </tr>\n",
       "  </tbody>\n",
       "</table>\n",
       "</div>"
      ],
      "text/plain": [
       "               0  1  2  3  4\n",
       "15th           1  0  0  0  0\n",
       "2024           1  0  0  0  0\n",
       "cloud          0  0  0  0  1\n",
       "course         1  0  0  0  1\n",
       "date           0  0  1  0  0\n",
       "github         0  1  0  0  0\n",
       "google         0  0  0  0  1\n",
       "homeworks      0  0  1  0  0\n",
       "jan            1  0  0  0  0\n",
       "listed         0  1  0  0  0\n",
       "participation  0  0  0  1  0\n",
       "prerequisites  0  1  0  0  0\n",
       "python         0  0  0  0  1\n",
       "registration   0  0  0  1  0\n",
       "required       0  0  0  1  0\n",
       "setup          0  0  0  0  1\n",
       "start          0  0  1  0  0\n",
       "starts         1  0  0  0  0\n",
       "submit         0  0  1  0  0"
      ]
     },
     "execution_count": 5,
     "metadata": {},
     "output_type": "execute_result"
    }
   ],
   "source": [
    "from sklearn.feature_extraction.text import CountVectorizer\n",
    "\n",
    "cv = CountVectorizer(stop_words='english')\n",
    "X = cv.fit_transform(docs_example)\n",
    "\n",
    "names = cv.get_feature_names_out()\n",
    "\n",
    "df_docs = pd.DataFrame(X.toarray(), columns=names).T\n",
    "df_docs"
   ]
  },
  {
   "cell_type": "markdown",
   "id": "ee987eb3-0b5a-4e19-b0b0-c26bcf500268",
   "metadata": {},
   "source": [
    "TfidfVectorizer"
   ]
  },
  {
   "cell_type": "code",
   "execution_count": null,
   "id": "152d901b-a031-47ec-939a-3e60c0aea5ef",
   "metadata": {},
   "outputs": [],
   "source": [
    "from sklearn.feature_extraction.text import TfidfVectorizer\n",
    "\n",
    "tf_cv = TfidfVectorizer(stop_words = 'english')\n",
    "X = tf_cv.fit_transform(docs_example)\n",
    "\n",
    "names = tf_cv.get_feature_names_out()\n",
    "\n",
    "df_docs_tf = pd.DataFrame(X.toarray(), columns = names).T\n",
    "df_docs_tf"
   ]
  },
  {
   "cell_type": "code",
   "execution_count": 36,
   "id": "f55b9569-e8be-49ea-aa26-92fafb981bb5",
   "metadata": {},
   "outputs": [
    {
     "data": {
      "text/plain": [
       "(19, 5)"
      ]
     },
     "execution_count": 36,
     "metadata": {},
     "output_type": "execute_result"
    }
   ],
   "source": [
    "df_docs_tf.shape"
   ]
  },
  {
   "cell_type": "markdown",
   "id": "5a9452d6-cbd0-4655-a81f-70997d5ab1fe",
   "metadata": {},
   "source": [
    "Query-Document Similarity"
   ]
  },
  {
   "cell_type": "code",
   "execution_count": 39,
   "id": "b27916d1-6b89-4d0e-8715-2a8df7e0f271",
   "metadata": {},
   "outputs": [
    {
     "data": {
      "text/plain": [
       "array([[0.        , 0.        , 0.        , 0.62791376, 0.        ,\n",
       "        0.        , 0.        , 0.        , 0.        , 0.        ,\n",
       "        0.        , 0.        , 0.77828292, 0.        , 0.        ,\n",
       "        0.        , 0.        , 0.        , 0.        ]])"
      ]
     },
     "execution_count": 39,
     "metadata": {},
     "output_type": "execute_result"
    }
   ],
   "source": [
    "query = \"Do I need to know python to sign up for the January course?\"\n",
    "\n",
    "q = tf_cv.transform([query])\n",
    "q.toarray()"
   ]
  },
  {
   "cell_type": "code",
   "execution_count": 38,
   "id": "2c02414b-448e-42aa-9a30-9a31b086f631",
   "metadata": {},
   "outputs": [
    {
     "data": {
      "text/plain": [
       "(1, 19)"
      ]
     },
     "execution_count": 38,
     "metadata": {},
     "output_type": "execute_result"
    }
   ],
   "source": [
    "q.shape"
   ]
  },
  {
   "cell_type": "code",
   "execution_count": 23,
   "id": "826a8f4b-defc-4665-a8c0-8615fcabab5a",
   "metadata": {},
   "outputs": [
    {
     "data": {
      "text/html": [
       "<div>\n",
       "<style scoped>\n",
       "    .dataframe tbody tr th:only-of-type {\n",
       "        vertical-align: middle;\n",
       "    }\n",
       "\n",
       "    .dataframe tbody tr th {\n",
       "        vertical-align: top;\n",
       "    }\n",
       "\n",
       "    .dataframe thead th {\n",
       "        text-align: right;\n",
       "    }\n",
       "</style>\n",
       "<table border=\"1\" class=\"dataframe\">\n",
       "  <thead>\n",
       "    <tr style=\"text-align: right;\">\n",
       "      <th></th>\n",
       "      <th>query</th>\n",
       "      <th>doc</th>\n",
       "    </tr>\n",
       "  </thead>\n",
       "  <tbody>\n",
       "    <tr>\n",
       "      <th>15th</th>\n",
       "      <td>0.000000</td>\n",
       "      <td>0.463693</td>\n",
       "    </tr>\n",
       "    <tr>\n",
       "      <th>2024</th>\n",
       "      <td>0.000000</td>\n",
       "      <td>0.463693</td>\n",
       "    </tr>\n",
       "    <tr>\n",
       "      <th>cloud</th>\n",
       "      <td>0.000000</td>\n",
       "      <td>0.000000</td>\n",
       "    </tr>\n",
       "    <tr>\n",
       "      <th>course</th>\n",
       "      <td>0.627914</td>\n",
       "      <td>0.374105</td>\n",
       "    </tr>\n",
       "    <tr>\n",
       "      <th>date</th>\n",
       "      <td>0.000000</td>\n",
       "      <td>0.000000</td>\n",
       "    </tr>\n",
       "    <tr>\n",
       "      <th>github</th>\n",
       "      <td>0.000000</td>\n",
       "      <td>0.000000</td>\n",
       "    </tr>\n",
       "    <tr>\n",
       "      <th>google</th>\n",
       "      <td>0.000000</td>\n",
       "      <td>0.000000</td>\n",
       "    </tr>\n",
       "    <tr>\n",
       "      <th>homeworks</th>\n",
       "      <td>0.000000</td>\n",
       "      <td>0.000000</td>\n",
       "    </tr>\n",
       "    <tr>\n",
       "      <th>jan</th>\n",
       "      <td>0.000000</td>\n",
       "      <td>0.463693</td>\n",
       "    </tr>\n",
       "    <tr>\n",
       "      <th>listed</th>\n",
       "      <td>0.000000</td>\n",
       "      <td>0.000000</td>\n",
       "    </tr>\n",
       "    <tr>\n",
       "      <th>participation</th>\n",
       "      <td>0.000000</td>\n",
       "      <td>0.000000</td>\n",
       "    </tr>\n",
       "    <tr>\n",
       "      <th>prerequisites</th>\n",
       "      <td>0.000000</td>\n",
       "      <td>0.000000</td>\n",
       "    </tr>\n",
       "    <tr>\n",
       "      <th>python</th>\n",
       "      <td>0.778283</td>\n",
       "      <td>0.000000</td>\n",
       "    </tr>\n",
       "    <tr>\n",
       "      <th>registration</th>\n",
       "      <td>0.000000</td>\n",
       "      <td>0.000000</td>\n",
       "    </tr>\n",
       "    <tr>\n",
       "      <th>required</th>\n",
       "      <td>0.000000</td>\n",
       "      <td>0.000000</td>\n",
       "    </tr>\n",
       "    <tr>\n",
       "      <th>setup</th>\n",
       "      <td>0.000000</td>\n",
       "      <td>0.000000</td>\n",
       "    </tr>\n",
       "    <tr>\n",
       "      <th>start</th>\n",
       "      <td>0.000000</td>\n",
       "      <td>0.000000</td>\n",
       "    </tr>\n",
       "    <tr>\n",
       "      <th>starts</th>\n",
       "      <td>0.000000</td>\n",
       "      <td>0.463693</td>\n",
       "    </tr>\n",
       "    <tr>\n",
       "      <th>submit</th>\n",
       "      <td>0.000000</td>\n",
       "      <td>0.000000</td>\n",
       "    </tr>\n",
       "  </tbody>\n",
       "</table>\n",
       "</div>"
      ],
      "text/plain": [
       "                  query       doc\n",
       "15th           0.000000  0.463693\n",
       "2024           0.000000  0.463693\n",
       "cloud          0.000000  0.000000\n",
       "course         0.627914  0.374105\n",
       "date           0.000000  0.000000\n",
       "github         0.000000  0.000000\n",
       "google         0.000000  0.000000\n",
       "homeworks      0.000000  0.000000\n",
       "jan            0.000000  0.463693\n",
       "listed         0.000000  0.000000\n",
       "participation  0.000000  0.000000\n",
       "prerequisites  0.000000  0.000000\n",
       "python         0.778283  0.000000\n",
       "registration   0.000000  0.000000\n",
       "required       0.000000  0.000000\n",
       "setup          0.000000  0.000000\n",
       "start          0.000000  0.000000\n",
       "starts         0.000000  0.463693\n",
       "submit         0.000000  0.000000"
      ]
     },
     "execution_count": 23,
     "metadata": {},
     "output_type": "execute_result"
    }
   ],
   "source": [
    "#  importance of the words when using TfidfVectorizer on test data\n",
    "query_dict = dict(zip(names, q.toarray()[0]))\n",
    "\n",
    "#  importance of the words when using TfidfVectorizer on traning data\n",
    "doc_dict = dict(zip(names, X.toarray()[0]))\n",
    "\n",
    "\n",
    "# compare importance between query and doc\n",
    "df_qd = pd.DataFrame([query_dict, doc_dict], index=['query', 'doc']).T\n",
    "df_qd"
   ]
  },
  {
   "cell_type": "code",
   "execution_count": 22,
   "id": "fffbcc5d-44aa-409d-b2df-845fcf7322e9",
   "metadata": {},
   "outputs": [
    {
     "data": {
      "text/plain": [
       "np.float64(0.23490553492076713)"
      ]
     },
     "execution_count": 22,
     "metadata": {},
     "output_type": "execute_result"
    }
   ],
   "source": [
    "(df_qd['query'] * df_qd['doc']).sum()"
   ]
  },
  {
   "cell_type": "code",
   "execution_count": 25,
   "id": "6249ab0b-1cae-4b8a-b808-385ea7096965",
   "metadata": {},
   "outputs": [
    {
     "data": {
      "text/plain": [
       "array([[0.23490553],\n",
       "       [0.        ],\n",
       "       [0.        ],\n",
       "       [0.        ],\n",
       "       [0.59579005]])"
      ]
     },
     "execution_count": 25,
     "metadata": {},
     "output_type": "execute_result"
    }
   ],
   "source": [
    "X.dot(q.T).toarray()"
   ]
  },
  {
   "cell_type": "code",
   "execution_count": 42,
   "id": "e9adc534-a3c0-415b-ac26-e342d6b08927",
   "metadata": {},
   "outputs": [
    {
     "name": "stdout",
     "output_type": "stream",
     "text": [
      "scores [0.23490553 0.         0.         0.         0.59579005]\n"
     ]
    },
    {
     "data": {
      "text/plain": [
       "array([1, 2, 3, 0, 4])"
      ]
     },
     "execution_count": 42,
     "metadata": {},
     "output_type": "execute_result"
    }
   ],
   "source": [
    "from sklearn.metrics.pairwise import cosine_similarity\n",
    "import numpy as np \n",
    "\n",
    "scores = cosine_similarity(X, q).flatten()\n",
    "print(\"scores\", scores)\n",
    "\n",
    "# sorting the documents by the relevance to the query question\n",
    "np.argsort(scores)"
   ]
  },
  {
   "cell_type": "markdown",
   "id": "2463cfa3-b9bd-48d9-a05a-809c008847ce",
   "metadata": {},
   "source": [
    "Vectorizing all the documents"
   ]
  },
  {
   "cell_type": "code",
   "execution_count": 44,
   "id": "78bf079f-825d-41f5-b5e7-5309ec12eef3",
   "metadata": {},
   "outputs": [
    {
     "data": {
      "text/plain": [
       "<Compressed Sparse Row sparse matrix of dtype 'float64'\n",
       "\twith 26463 stored elements and shape (948, 2118)>"
      ]
     },
     "execution_count": 44,
     "metadata": {},
     "output_type": "execute_result"
    }
   ],
   "source": [
    "fields = ['section', 'question', 'text']\n",
    "transformers = {}\n",
    "matrices = {}\n",
    "\n",
    "for field in fields:\n",
    "    cv = TfidfVectorizer(stop_words='english', min_df=3)\n",
    "    X = cv.fit_transform(df[field])\n",
    "\n",
    "    transformers[field] = cv\n",
    "    matrices[field] = X\n",
    "\n",
    "transformers['text'].get_feature_names_out()\n",
    "matrices['text']"
   ]
  },
  {
   "cell_type": "code",
   "execution_count": 61,
   "id": "e5422256-6131-4e4a-858f-1ce8ef4c7bf4",
   "metadata": {},
   "outputs": [
    {
     "data": {
      "text/plain": [
       "{'section': TfidfVectorizer(min_df=3, stop_words='english'),\n",
       " 'question': TfidfVectorizer(min_df=3, stop_words='english'),\n",
       " 'text': TfidfVectorizer(min_df=3, stop_words='english')}"
      ]
     },
     "execution_count": 61,
     "metadata": {},
     "output_type": "execute_result"
    }
   ],
   "source": [
    "transformers"
   ]
  },
  {
   "cell_type": "code",
   "execution_count": 54,
   "id": "05976414-e47b-4a8f-b264-3020a55a3015",
   "metadata": {},
   "outputs": [],
   "source": [
    "query = \"I just singned up. Is it too late to join the course?\"\n",
    "\n",
    "q = transformers['text'].transform([query])\n",
    "score = cosine_similarity(matrices['text'], q).flatten()"
   ]
  },
  {
   "cell_type": "code",
   "execution_count": 45,
   "id": "d990e3d1-a672-4178-b5d3-2e7179ba0af1",
   "metadata": {},
   "outputs": [],
   "source": [
    "query = \"Do I need to know python to sign up for the January course?\"\n",
    "\n",
    "q = transformers['text'].transform([query])\n",
    "score = cosine_similarity(matrices['text'], q).flatten()"
   ]
  },
  {
   "cell_type": "code",
   "execution_count": 55,
   "id": "8d6cde78-1f90-42fe-8de7-3b8b456d758c",
   "metadata": {},
   "outputs": [
    {
     "data": {
      "text/plain": [
       "array([555, 537, 536, 535, 534, 533, 532, 531, 530, 529, 559, 558, 556,\n",
       "       538, 554, 553, 552, 551, 550, 549, 548, 547, 546, 545, 544, 575,\n",
       "       838, 514, 513, 512, 543, 542, 541, 540, 843, 842, 841, 840, 839,\n",
       "       574, 837, 836, 835, 834, 833, 832, 863, 862, 861, 860, 539, 592,\n",
       "       607, 606, 605, 604, 603, 602, 601, 600, 597, 596, 595, 594, 576,\n",
       "       622, 621, 620, 618, 617, 616, 615, 614, 613, 612, 611, 610, 590,\n",
       "       573, 572, 571, 570, 569, 567, 566, 564, 563, 562, 560, 591, 515,\n",
       "       589, 586, 585, 584, 583, 582, 581, 580, 579, 578, 577, 477, 437,\n",
       "       434, 433, 432, 463, 462, 461, 460, 459, 453, 479, 478, 438, 476,\n",
       "       859, 856, 855, 854, 853, 852, 851, 850, 849, 848, 879, 421, 402,\n",
       "       401, 400,  44, 429, 428, 427, 426, 425, 424, 423, 422, 878, 420,\n",
       "       419, 418, 417, 416, 447, 446, 444, 443, 442, 441, 497, 480, 510,\n",
       "       509, 508, 507, 506, 505, 504, 501, 500, 499, 498, 481, 496, 527,\n",
       "       526, 524, 523, 521, 520, 519, 518, 517, 516, 494, 877, 876, 475,\n",
       "       474, 473, 472, 471, 469, 468, 467, 466, 495, 609, 493, 492, 491,\n",
       "       490, 489, 488, 487, 486, 484, 483, 482, 809, 763, 761, 757, 756,\n",
       "       755, 754, 753, 752, 783, 782, 781, 811, 765, 808, 807, 805, 803,\n",
       "       802, 801, 800, 831, 830, 829, 828, 779, 747, 730, 728, 727, 726,\n",
       "       724, 723, 722, 721, 720, 751, 750, 748, 778, 746, 745, 744, 743,\n",
       "       742, 739, 738, 737, 736, 767, 766, 916, 939, 938, 937, 936, 935,\n",
       "       934,  31, 921, 920, 919, 918, 917, 812, 914, 912, 943,  30,  29,\n",
       "        42,  37,  36,  45, 945, 928, 794, 777, 776, 775, 773, 772, 771,\n",
       "       770, 769, 799, 798, 796, 795, 731, 793, 792, 791, 790, 789, 788,\n",
       "       786, 785, 784, 815, 813, 661, 642, 641, 640, 671, 670, 668, 667,\n",
       "       666, 665, 664, 663, 662, 643, 660, 659, 658, 687, 686, 684, 827,\n",
       "       825, 824, 823, 822, 821, 625, 608, 638, 637, 636, 635, 634, 633,\n",
       "       632, 631, 629, 628, 627, 820, 624, 655, 653, 652, 651, 650, 649,\n",
       "       647, 646, 645, 644, 712, 695, 694, 692, 691, 690, 689, 688, 718,\n",
       "       717, 716, 714, 713, 696, 711, 710, 709, 708, 707, 706, 705, 704,\n",
       "       735, 734, 733, 678, 819, 818, 817, 816, 847, 846, 845, 844, 683,\n",
       "       682, 680, 679, 431, 677, 676, 675, 674, 673, 703, 702, 701, 699,\n",
       "       698, 697, 146, 128, 159, 157, 156, 155, 154, 153, 152, 151, 150,\n",
       "       149, 147, 129, 145, 144, 175, 890, 889, 888, 887, 886, 885, 884,\n",
       "       883, 882, 141, 124, 123, 122, 121, 120, 119, 118, 116, 115, 114,\n",
       "       112, 143, 881, 140, 139, 138, 137, 136, 135, 134, 133, 132, 131,\n",
       "       130, 200, 180, 179, 178, 177, 176, 207, 206, 205, 204, 203, 202,\n",
       "       201, 181, 199, 198, 197, 196, 195, 194, 403, 223, 222, 221, 220,\n",
       "       161, 880, 911, 910, 909, 171, 170, 169, 168, 166, 164, 163, 162,\n",
       "       125, 160, 191, 190, 189, 188, 187, 186, 185, 184, 183, 182,  58,\n",
       "         2,   1,  16,  47,  46, 944,  34,  32,  63,  61,  60,  59,   4,\n",
       "        57,  56,  55,  54,  53,  52,  51,  50,  49,  79,  77,  17, 930,\n",
       "       929, 947,  14,  13,  12,  26,  25,  24,  21,  20,  19,  76, 946,\n",
       "        35, 931, 942, 941, 940,  10,   9,   8,   6,   5, 108, 924,  90,\n",
       "        89,  87,  85,  84,  82,  81,  80, 111, 110, 109, 925, 107, 105,\n",
       "       103, 102, 101,  99,  98,  97,  96, 127, 126,  92,  74,  73,  72,\n",
       "        71,  70,  68,  67,  66,  65,  95,  94,  93, 192, 907, 904, 903,\n",
       "       902, 901, 900, 899, 898, 897, 927, 926, 344, 869, 868, 866, 865,\n",
       "       864, 895, 894, 893, 892, 347, 346, 345, 870, 343, 341, 340, 339,\n",
       "       338, 337, 336, 367, 366, 365, 364, 363, 324, 307, 306, 305, 219,\n",
       "       335, 334, 332, 331, 330, 329, 326, 325, 362, 323, 320, 351, 350,\n",
       "       349, 348, 875, 874, 873, 872, 871, 385, 368, 399, 398, 397, 394,\n",
       "       393, 392, 391, 390, 389, 388, 387, 369, 384, 415, 414, 413, 412,\n",
       "       410, 409, 408, 407, 406, 405, 404, 381, 361, 360, 359, 358, 357,\n",
       "       356, 355, 354, 353, 352, 383, 382, 304, 380, 379, 378, 377, 376,\n",
       "       375, 374, 373, 372, 371, 370, 240, 254, 253, 252, 251, 250, 249,\n",
       "       248, 247, 246, 245, 244, 242, 255, 271, 270, 269, 268, 266, 264,\n",
       "       263, 262, 308, 260, 259, 258, 237, 218, 217, 216, 215, 214, 213,\n",
       "       212, 211, 210, 208, 239, 238, 261, 236, 235, 234, 233, 232, 231,\n",
       "       230, 229, 228, 227, 225, 224, 289, 301, 299, 298, 257, 296, 295,\n",
       "       294, 293, 292, 291, 290, 297, 319, 318, 317, 316, 315, 314, 313,\n",
       "       312, 311, 310, 309, 302, 256, 286, 285, 284, 283, 282, 281, 280,\n",
       "       279, 278, 277, 303, 272, 273, 276, 275, 274,  64, 333, 891, 158,\n",
       "       672, 598, 104, 648, 241, 932, 321, 749, 857, 693,  48, 630, 715,\n",
       "       896,  88, 922, 288, 700, 458,  39, 106, 485, 465, 656, 243, 117,\n",
       "       905, 729, 740, 174, 669, 599, 568, 787, 300, 522, 557, 906, 456,\n",
       "       725, 732, 172, 209, 173, 386, 528, 933, 265, 322, 561, 762,  43,\n",
       "        86,  91, 167,  40, 760, 525, 681,  75, 685,  83, 867, 908,  33,\n",
       "       267, 430, 502, 619, 165, 626, 464,  78, 759,  69, 439, 593, 858,\n",
       "       503, 719, 226, 810,  18, 639, 804,  62, 470, 623, 780, 774, 587,\n",
       "       806,  41, 826, 328, 396, 142, 327, 741, 100, 411, 193, 915, 450,\n",
       "       654, 923, 342, 511, 454,  23, 758, 395,  28, 768, 435, 588, 148,\n",
       "       814, 913, 455, 451, 445,  11, 565, 113,   7, 457,   3, 436, 287,\n",
       "       657,  38, 452,  27, 764, 797, 448,  22,  15, 440, 449,   0])"
      ]
     },
     "execution_count": 55,
     "metadata": {},
     "output_type": "execute_result"
    }
   ],
   "source": [
    "np.argsort(score)"
   ]
  },
  {
   "cell_type": "code",
   "execution_count": 59,
   "id": "aedaefa4-1b6d-4c93-b465-b689435e9ac6",
   "metadata": {},
   "outputs": [
    {
     "data": {
      "text/plain": [
       "'No, late submissions are not allowed. But if the form is still not closed and it’s after the due date, you can still submit the homework. confirm your submission by the date-timestamp on the Course page.y\\nOlder news:[source1] [source2]'"
      ]
     },
     "execution_count": 59,
     "metadata": {},
     "output_type": "execute_result"
    }
   ],
   "source": [
    "df.iloc[15].text"
   ]
  }
 ],
 "metadata": {
  "kernelspec": {
   "display_name": "Python 3 (ipykernel)",
   "language": "python",
   "name": "python3"
  },
  "language_info": {
   "codemirror_mode": {
    "name": "ipython",
    "version": 3
   },
   "file_extension": ".py",
   "mimetype": "text/x-python",
   "name": "python",
   "nbconvert_exporter": "python",
   "pygments_lexer": "ipython3",
   "version": "3.10.13"
  }
 },
 "nbformat": 4,
 "nbformat_minor": 5
}
