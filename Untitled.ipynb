{
 "cells": [
  {
   "cell_type": "code",
   "execution_count": 2,
   "id": "7c3ff994-c2ab-40bd-8943-bd81562c43f1",
   "metadata": {},
   "outputs": [],
   "source": [
    "import json\n",
    "import requests \n",
    "\n",
    "docs_url = 'https://github.com/alexeygrigorev/llm-rag-workshop/raw/main/notebooks/documents.json'\n",
    "docs_response = requests.get(docs_url)\n",
    "documents_raw = docs_response.json()\n",
    "\n",
    "documents = []\n",
    "\n",
    "for course in documents_raw:\n",
    "    course_name = course['course']\n",
    "\n",
    "    for doc in course['documents']:\n",
    "        doc['course'] = course_name\n",
    "        documents.append(doc)"
   ]
  },
  {
   "cell_type": "code",
   "execution_count": 8,
   "id": "a30192f8-2f15-4e7d-98fd-26ee7c8a5fb7",
   "metadata": {},
   "outputs": [
    {
     "data": {
      "text/plain": [
       "<__main__.Index at 0x7ffa6da53910>"
      ]
     },
     "execution_count": 8,
     "metadata": {},
     "output_type": "execute_result"
    }
   ],
   "source": [
    "index = Index(\n",
    "    text_fields=[\"question\", \"text\", \"section\"],\n",
    "    keyword_fields=[\"course\"]\n",
    ")\n",
    "\n",
    "index.fit(documents)"
   ]
  },
  {
   "cell_type": "code",
   "execution_count": 9,
   "id": "7c2d7eb0-bdf8-493e-a063-f0c0337e4cdf",
   "metadata": {},
   "outputs": [
    {
     "name": "stdout",
     "output_type": "stream",
     "text": [
      "{\n",
      "  \"text\": \"Yes, even if you don't register, you're still eligible to submit the homeworks.\\nBe aware, however, that there will be deadlines for turning in the final projects. So don't leave everything for the last minute.\",\n",
      "  \"section\": \"General course-related questions\",\n",
      "  \"question\": \"Course - Can I still join the course after the start date?\",\n",
      "  \"course\": \"data-engineering-zoomcamp\"\n",
      "}\n",
      "{\n",
      "  \"text\": \"Yes, we will keep all the materials after the course finishes, so you can follow the course at your own pace after it finishes.\\nYou can also continue looking at the homeworks and continue preparing for the next cohort. I guess you can also start working on your final capstone project.\",\n",
      "  \"section\": \"General course-related questions\",\n",
      "  \"question\": \"Course - Can I follow the course after it finishes?\",\n",
      "  \"course\": \"data-engineering-zoomcamp\"\n",
      "}\n",
      "{\n",
      "  \"text\": \"Yes, the slack channel remains open and you can ask questions there. But always sDocker containers exit code w search the channel first and second, check the FAQ (this document), most likely all your questions are already answered here.\\nYou can also tag the bot @ZoomcampQABot to help you conduct the search, but don\\u2019t rely on its answers 100%, it is pretty good though.\",\n",
      "  \"section\": \"General course-related questions\",\n",
      "  \"question\": \"Course - Can I get support if I take the course in the self-paced mode?\",\n",
      "  \"course\": \"data-engineering-zoomcamp\"\n",
      "}\n",
      "{\n",
      "  \"text\": \"The purpose of this document is to capture frequently asked technical questions\\nThe exact day and hour of the course will be 15th Jan 2024 at 17h00. The course will start with the first  \\u201cOffice Hours'' live.1\\nSubscribe to course public Google Calendar (it works from Desktop only).\\nRegister before the course starts using this link.\\nJoin the course Telegram channel with announcements.\\nDon\\u2019t forget to register in DataTalks.Club's Slack and join the channel.\",\n",
      "  \"section\": \"General course-related questions\",\n",
      "  \"question\": \"Course - When will the course start?\",\n",
      "  \"course\": \"data-engineering-zoomcamp\"\n",
      "}\n",
      "{\n",
      "  \"text\": \"You can start by installing and setting up all the dependencies and requirements:\\nGoogle cloud account\\nGoogle Cloud SDK\\nPython 3 (installed with Anaconda)\\nTerraform\\nGit\\nLook over the prerequisites and syllabus to see if you are comfortable with these subjects.\",\n",
      "  \"section\": \"General course-related questions\",\n",
      "  \"question\": \"Course - What can I do before the course starts?\",\n",
      "  \"course\": \"data-engineering-zoomcamp\"\n",
      "}\n"
     ]
    }
   ],
   "source": [
    "query = \"Can I join the course if it has already started?\"\n",
    "\n",
    "filter_dict = {\"course\": \"data-engineering-zoomcamp\"}\n",
    "boost_dict = {\"question\": 3}\n",
    "\n",
    "results = index.search(query, filter_dict, boost_dict, num_results=5)\n",
    "\n",
    "for result in results:\n",
    "    print(json.dumps(result, indent=2))"
   ]
  }
 ],
 "metadata": {
  "kernelspec": {
   "display_name": "Python 3 (ipykernel)",
   "language": "python",
   "name": "python3"
  },
  "language_info": {
   "codemirror_mode": {
    "name": "ipython",
    "version": 3
   },
   "file_extension": ".py",
   "mimetype": "text/x-python",
   "name": "python",
   "nbconvert_exporter": "python",
   "pygments_lexer": "ipython3",
   "version": "3.10.13"
  }
 },
 "nbformat": 4,
 "nbformat_minor": 5
}
